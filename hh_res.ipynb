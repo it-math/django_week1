{
  "nbformat": 4,
  "nbformat_minor": 0,
  "metadata": {
    "colab": {
      "provenance": [],
      "authorship_tag": "ABX9TyPODex9bCPX96VGoEwFSRsa",
      "include_colab_link": true
    },
    "kernelspec": {
      "name": "python3",
      "display_name": "Python 3"
    },
    "language_info": {
      "name": "python"
    }
  },
  "cells": [
    {
      "cell_type": "markdown",
      "metadata": {
        "id": "view-in-github",
        "colab_type": "text"
      },
      "source": [
        "<a href=\"https://colab.research.google.com/github/it-math/django_week1/blob/master/hh_res.ipynb\" target=\"_parent\"><img src=\"https://colab.research.google.com/assets/colab-badge.svg\" alt=\"Open In Colab\"/></a>"
      ]
    },
    {
      "cell_type": "code",
      "execution_count": 122,
      "metadata": {
        "id": "Sm8ucMBq4sfy"
      },
      "outputs": [],
      "source": [
        "import pandas as pd\n",
        "import matplotlib.pyplot as plt\n",
        "import seaborn as sns\n",
        "from wordcloud import WordCloud\n",
        "import re"
      ]
    },
    {
      "cell_type": "code",
      "source": [
        "df = pd.read_csv(\"https://it-math.ru/wp-content/uploads/it_vacancies.csv\")"
      ],
      "metadata": {
        "id": "yheDKyd2411W"
      },
      "execution_count": 123,
      "outputs": []
    },
    {
      "cell_type": "code",
      "source": [
        "type(df)"
      ],
      "metadata": {
        "collapsed": true,
        "id": "E9qG7Km89wGp"
      },
      "execution_count": null,
      "outputs": []
    },
    {
      "cell_type": "code",
      "source": [
        "df.info()"
      ],
      "metadata": {
        "id": "I7y_QY1n6icB"
      },
      "execution_count": null,
      "outputs": []
    },
    {
      "cell_type": "code",
      "source": [
        "df = df.drop('key_skills',axis=1)"
      ],
      "metadata": {
        "id": "6iDB3EuF7UDo"
      },
      "execution_count": 126,
      "outputs": []
    },
    {
      "cell_type": "code",
      "source": [
        "df.info()"
      ],
      "metadata": {
        "id": "b6egh3Je9-G0"
      },
      "execution_count": null,
      "outputs": []
    },
    {
      "cell_type": "code",
      "source": [
        "TOP_N = 20  # Сколько городов показать"
      ],
      "metadata": {
        "id": "X25dyaye580a"
      },
      "execution_count": 128,
      "outputs": []
    },
    {
      "cell_type": "code",
      "source": [
        "CATEGORIES = {\n",
        "    \"backend\": [\"python\", \"django\", \"flask\", \"java\", \"spring\", \"php\", \"node.js\", \"ruby\"],\n",
        "    \"frontend\": [\"javascript\", \"react\", \"vue\", \"angular\", \"html\", \"css\", \"typescript\"],\n",
        "    \"data_science\": [\"data scientist\", \"machine learning\", \"ml\", \"pandas\", \"numpy\", \"ai\", \"анализ данных\", 'ds'],\n",
        "    \"qa\": [\"тестировщик\", \"qa\", \"ручное тестирование\", \"автотесты\", \"selenium\", \"postman\"],\n",
        "    \"devops\": [\"devops\", \"docker\", \"kubernetes\", \"ci/cd\", \"linux\", \"ansible\", \"aws\", \"azure\"],\n",
        "    \"mobile\": [\"android\", \"ios\", \"flutter\", \"react native\", \"swift\", \"kotlin\"],\n",
        "    \"management\": [\"менеджер\", \"руководитель проекта\", \"product manager\", \"scrum\", \"jira\"],\n",
        "    \"programmer\" : []\n",
        "}"
      ],
      "metadata": {
        "id": "42sf39w36NcD"
      },
      "execution_count": 185,
      "outputs": []
    },
    {
      "cell_type": "code",
      "source": [
        "df[\"avg_salary\"] = df[[\"salary_from\", \"salary_to\"]].mean(axis=1)\n",
        "# df[\"avg_salary\"] = df[[\"salary_from\", \"salary_to\"]].dropna().mean(axis=1)\n",
        "#df[\"avg_salary\"] = df[[\"salary_from\", \"salary_to\"]].mean(axis=1, skipna=False)\n",
        "df[[\"name\", \"salary_from\", \"salary_to\", \"avg_salary\"]]"
      ],
      "metadata": {
        "id": "be2lED1AvWp5"
      },
      "execution_count": null,
      "outputs": []
    },
    {
      "cell_type": "markdown",
      "source": [
        "**Подсчёт количества вакансий по городам**"
      ],
      "metadata": {
        "id": "_Wa5pUMI_ZJT"
      }
    },
    {
      "cell_type": "code",
      "source": [
        "city_counts = df[\"city\"].value_counts().head(TOP_N)\n",
        "print(city_counts)"
      ],
      "metadata": {
        "id": "MYdB-sLq_VKP"
      },
      "execution_count": null,
      "outputs": []
    },
    {
      "cell_type": "code",
      "source": [
        "# --- График: столбчатая диаграмма ---\n",
        "plt.figure(figsize=(12, 6))\n",
        "bars = plt.bar(city_counts.index, city_counts.values, color=\"#4F94CD\")\n",
        "plt.title(\"Количество IT-вакансий по городам\")\n",
        "plt.xlabel(\"Город\")\n",
        "plt.ylabel(\"Число вакансий\")\n",
        "plt.xticks(rotation=45, ha=\"right\")\n",
        "plt.tight_layout()\n",
        "\n",
        "# Подписи значений над столбцами\n",
        "for bar in bars:\n",
        "    yval = bar.get_height()\n",
        "    plt.text(bar.get_x() + bar.get_width()/2, yval + 0.5,\n",
        "             str(int(yval)), ha='center', va='bottom', fontsize=10)\n",
        "\n",
        "plt.show()"
      ],
      "metadata": {
        "id": "vsjzJMmQ_WaZ"
      },
      "execution_count": null,
      "outputs": []
    },
    {
      "cell_type": "code",
      "source": [
        "# --- Круговая диаграмма ---\n",
        "plt.figure(figsize=(10, 10))\n",
        "city_counts.plot.pie(\n",
        "    autopct='%1.1f%%',\n",
        "    startangle=90,\n",
        "    colors=plt.cm.Paired.colors,\n",
        "    textprops={'fontsize': 8},\n",
        "    title=f'Распределение вакансий по {TOP_N} городам'\n",
        ")\n",
        "plt.ylabel('')\n",
        "plt.tight_layout()\n",
        "plt.show()"
      ],
      "metadata": {
        "id": "TOKhJksn_XiZ"
      },
      "execution_count": null,
      "outputs": []
    },
    {
      "cell_type": "markdown",
      "source": [
        "**Распределение требуемого опыта**"
      ],
      "metadata": {
        "id": "jeuVLHC2XUzW"
      }
    },
    {
      "cell_type": "code",
      "source": [
        "experience_counts = df[\"experience\"].value_counts()\n",
        "print(\"Распределение требуемого опыта:\")\n",
        "print(experience_counts)\n",
        "\n",
        "# Круговая диаграмма\n",
        "experience_counts.plot(kind=\"pie\", autopct='%1.1f%%', title=\"Требуемый опыт в вакансиях\")\n",
        "plt.ylabel(\"\")\n",
        "plt.tight_layout()\n",
        "plt.show()"
      ],
      "metadata": {
        "id": "lMrOrKw5XXJA"
      },
      "execution_count": null,
      "outputs": []
    },
    {
      "cell_type": "markdown",
      "source": [
        "**Средняя зарплата и опыт**"
      ],
      "metadata": {
        "id": "BcaXJEjk_4bw"
      }
    },
    {
      "cell_type": "code",
      "source": [
        "df.groupby(\"experience\")[[\"avg_salary\"]].agg([\"count\", \"mean\"])"
      ],
      "metadata": {
        "colab": {
          "base_uri": "https://localhost:8080/",
          "height": 237
        },
        "id": "bzI68AKEAakx",
        "outputId": "8e0be12c-90f9-4c16-c943-df64818e94e2"
      },
      "execution_count": 197,
      "outputs": [
        {
          "output_type": "execute_result",
          "data": {
            "text/plain": [
              "                   avg_salary               \n",
              "                        count           mean\n",
              "experience                                  \n",
              "Более 6 лет               116  240373.275862\n",
              "Нет опыта                 428   71248.489486\n",
              "От 1 года до 3 лет       1013  114017.747285\n",
              "От 3 до 6 лет             603  194801.143449"
            ],
            "text/html": [
              "\n",
              "  <div id=\"df-24f0328e-3149-49aa-ba88-6cd956911e4b\" class=\"colab-df-container\">\n",
              "    <div>\n",
              "<style scoped>\n",
              "    .dataframe tbody tr th:only-of-type {\n",
              "        vertical-align: middle;\n",
              "    }\n",
              "\n",
              "    .dataframe tbody tr th {\n",
              "        vertical-align: top;\n",
              "    }\n",
              "\n",
              "    .dataframe thead tr th {\n",
              "        text-align: left;\n",
              "    }\n",
              "\n",
              "    .dataframe thead tr:last-of-type th {\n",
              "        text-align: right;\n",
              "    }\n",
              "</style>\n",
              "<table border=\"1\" class=\"dataframe\">\n",
              "  <thead>\n",
              "    <tr>\n",
              "      <th></th>\n",
              "      <th colspan=\"2\" halign=\"left\">avg_salary</th>\n",
              "    </tr>\n",
              "    <tr>\n",
              "      <th></th>\n",
              "      <th>count</th>\n",
              "      <th>mean</th>\n",
              "    </tr>\n",
              "    <tr>\n",
              "      <th>experience</th>\n",
              "      <th></th>\n",
              "      <th></th>\n",
              "    </tr>\n",
              "  </thead>\n",
              "  <tbody>\n",
              "    <tr>\n",
              "      <th>Более 6 лет</th>\n",
              "      <td>116</td>\n",
              "      <td>240373.275862</td>\n",
              "    </tr>\n",
              "    <tr>\n",
              "      <th>Нет опыта</th>\n",
              "      <td>428</td>\n",
              "      <td>71248.489486</td>\n",
              "    </tr>\n",
              "    <tr>\n",
              "      <th>От 1 года до 3 лет</th>\n",
              "      <td>1013</td>\n",
              "      <td>114017.747285</td>\n",
              "    </tr>\n",
              "    <tr>\n",
              "      <th>От 3 до 6 лет</th>\n",
              "      <td>603</td>\n",
              "      <td>194801.143449</td>\n",
              "    </tr>\n",
              "  </tbody>\n",
              "</table>\n",
              "</div>\n",
              "    <div class=\"colab-df-buttons\">\n",
              "\n",
              "  <div class=\"colab-df-container\">\n",
              "    <button class=\"colab-df-convert\" onclick=\"convertToInteractive('df-24f0328e-3149-49aa-ba88-6cd956911e4b')\"\n",
              "            title=\"Convert this dataframe to an interactive table.\"\n",
              "            style=\"display:none;\">\n",
              "\n",
              "  <svg xmlns=\"http://www.w3.org/2000/svg\" height=\"24px\" viewBox=\"0 -960 960 960\">\n",
              "    <path d=\"M120-120v-720h720v720H120Zm60-500h600v-160H180v160Zm220 220h160v-160H400v160Zm0 220h160v-160H400v160ZM180-400h160v-160H180v160Zm440 0h160v-160H620v160ZM180-180h160v-160H180v160Zm440 0h160v-160H620v160Z\"/>\n",
              "  </svg>\n",
              "    </button>\n",
              "\n",
              "  <style>\n",
              "    .colab-df-container {\n",
              "      display:flex;\n",
              "      gap: 12px;\n",
              "    }\n",
              "\n",
              "    .colab-df-convert {\n",
              "      background-color: #E8F0FE;\n",
              "      border: none;\n",
              "      border-radius: 50%;\n",
              "      cursor: pointer;\n",
              "      display: none;\n",
              "      fill: #1967D2;\n",
              "      height: 32px;\n",
              "      padding: 0 0 0 0;\n",
              "      width: 32px;\n",
              "    }\n",
              "\n",
              "    .colab-df-convert:hover {\n",
              "      background-color: #E2EBFA;\n",
              "      box-shadow: 0px 1px 2px rgba(60, 64, 67, 0.3), 0px 1px 3px 1px rgba(60, 64, 67, 0.15);\n",
              "      fill: #174EA6;\n",
              "    }\n",
              "\n",
              "    .colab-df-buttons div {\n",
              "      margin-bottom: 4px;\n",
              "    }\n",
              "\n",
              "    [theme=dark] .colab-df-convert {\n",
              "      background-color: #3B4455;\n",
              "      fill: #D2E3FC;\n",
              "    }\n",
              "\n",
              "    [theme=dark] .colab-df-convert:hover {\n",
              "      background-color: #434B5C;\n",
              "      box-shadow: 0px 1px 3px 1px rgba(0, 0, 0, 0.15);\n",
              "      filter: drop-shadow(0px 1px 2px rgba(0, 0, 0, 0.3));\n",
              "      fill: #FFFFFF;\n",
              "    }\n",
              "  </style>\n",
              "\n",
              "    <script>\n",
              "      const buttonEl =\n",
              "        document.querySelector('#df-24f0328e-3149-49aa-ba88-6cd956911e4b button.colab-df-convert');\n",
              "      buttonEl.style.display =\n",
              "        google.colab.kernel.accessAllowed ? 'block' : 'none';\n",
              "\n",
              "      async function convertToInteractive(key) {\n",
              "        const element = document.querySelector('#df-24f0328e-3149-49aa-ba88-6cd956911e4b');\n",
              "        const dataTable =\n",
              "          await google.colab.kernel.invokeFunction('convertToInteractive',\n",
              "                                                    [key], {});\n",
              "        if (!dataTable) return;\n",
              "\n",
              "        const docLinkHtml = 'Like what you see? Visit the ' +\n",
              "          '<a target=\"_blank\" href=https://colab.research.google.com/notebooks/data_table.ipynb>data table notebook</a>'\n",
              "          + ' to learn more about interactive tables.';\n",
              "        element.innerHTML = '';\n",
              "        dataTable['output_type'] = 'display_data';\n",
              "        await google.colab.output.renderOutput(dataTable, element);\n",
              "        const docLink = document.createElement('div');\n",
              "        docLink.innerHTML = docLinkHtml;\n",
              "        element.appendChild(docLink);\n",
              "      }\n",
              "    </script>\n",
              "  </div>\n",
              "\n",
              "\n",
              "    <div id=\"df-c3c19832-8eb7-44df-bfd3-aaaa1469ac2b\">\n",
              "      <button class=\"colab-df-quickchart\" onclick=\"quickchart('df-c3c19832-8eb7-44df-bfd3-aaaa1469ac2b')\"\n",
              "                title=\"Suggest charts\"\n",
              "                style=\"display:none;\">\n",
              "\n",
              "<svg xmlns=\"http://www.w3.org/2000/svg\" height=\"24px\"viewBox=\"0 0 24 24\"\n",
              "     width=\"24px\">\n",
              "    <g>\n",
              "        <path d=\"M19 3H5c-1.1 0-2 .9-2 2v14c0 1.1.9 2 2 2h14c1.1 0 2-.9 2-2V5c0-1.1-.9-2-2-2zM9 17H7v-7h2v7zm4 0h-2V7h2v10zm4 0h-2v-4h2v4z\"/>\n",
              "    </g>\n",
              "</svg>\n",
              "      </button>\n",
              "\n",
              "<style>\n",
              "  .colab-df-quickchart {\n",
              "      --bg-color: #E8F0FE;\n",
              "      --fill-color: #1967D2;\n",
              "      --hover-bg-color: #E2EBFA;\n",
              "      --hover-fill-color: #174EA6;\n",
              "      --disabled-fill-color: #AAA;\n",
              "      --disabled-bg-color: #DDD;\n",
              "  }\n",
              "\n",
              "  [theme=dark] .colab-df-quickchart {\n",
              "      --bg-color: #3B4455;\n",
              "      --fill-color: #D2E3FC;\n",
              "      --hover-bg-color: #434B5C;\n",
              "      --hover-fill-color: #FFFFFF;\n",
              "      --disabled-bg-color: #3B4455;\n",
              "      --disabled-fill-color: #666;\n",
              "  }\n",
              "\n",
              "  .colab-df-quickchart {\n",
              "    background-color: var(--bg-color);\n",
              "    border: none;\n",
              "    border-radius: 50%;\n",
              "    cursor: pointer;\n",
              "    display: none;\n",
              "    fill: var(--fill-color);\n",
              "    height: 32px;\n",
              "    padding: 0;\n",
              "    width: 32px;\n",
              "  }\n",
              "\n",
              "  .colab-df-quickchart:hover {\n",
              "    background-color: var(--hover-bg-color);\n",
              "    box-shadow: 0 1px 2px rgba(60, 64, 67, 0.3), 0 1px 3px 1px rgba(60, 64, 67, 0.15);\n",
              "    fill: var(--button-hover-fill-color);\n",
              "  }\n",
              "\n",
              "  .colab-df-quickchart-complete:disabled,\n",
              "  .colab-df-quickchart-complete:disabled:hover {\n",
              "    background-color: var(--disabled-bg-color);\n",
              "    fill: var(--disabled-fill-color);\n",
              "    box-shadow: none;\n",
              "  }\n",
              "\n",
              "  .colab-df-spinner {\n",
              "    border: 2px solid var(--fill-color);\n",
              "    border-color: transparent;\n",
              "    border-bottom-color: var(--fill-color);\n",
              "    animation:\n",
              "      spin 1s steps(1) infinite;\n",
              "  }\n",
              "\n",
              "  @keyframes spin {\n",
              "    0% {\n",
              "      border-color: transparent;\n",
              "      border-bottom-color: var(--fill-color);\n",
              "      border-left-color: var(--fill-color);\n",
              "    }\n",
              "    20% {\n",
              "      border-color: transparent;\n",
              "      border-left-color: var(--fill-color);\n",
              "      border-top-color: var(--fill-color);\n",
              "    }\n",
              "    30% {\n",
              "      border-color: transparent;\n",
              "      border-left-color: var(--fill-color);\n",
              "      border-top-color: var(--fill-color);\n",
              "      border-right-color: var(--fill-color);\n",
              "    }\n",
              "    40% {\n",
              "      border-color: transparent;\n",
              "      border-right-color: var(--fill-color);\n",
              "      border-top-color: var(--fill-color);\n",
              "    }\n",
              "    60% {\n",
              "      border-color: transparent;\n",
              "      border-right-color: var(--fill-color);\n",
              "    }\n",
              "    80% {\n",
              "      border-color: transparent;\n",
              "      border-right-color: var(--fill-color);\n",
              "      border-bottom-color: var(--fill-color);\n",
              "    }\n",
              "    90% {\n",
              "      border-color: transparent;\n",
              "      border-bottom-color: var(--fill-color);\n",
              "    }\n",
              "  }\n",
              "</style>\n",
              "\n",
              "      <script>\n",
              "        async function quickchart(key) {\n",
              "          const quickchartButtonEl =\n",
              "            document.querySelector('#' + key + ' button');\n",
              "          quickchartButtonEl.disabled = true;  // To prevent multiple clicks.\n",
              "          quickchartButtonEl.classList.add('colab-df-spinner');\n",
              "          try {\n",
              "            const charts = await google.colab.kernel.invokeFunction(\n",
              "                'suggestCharts', [key], {});\n",
              "          } catch (error) {\n",
              "            console.error('Error during call to suggestCharts:', error);\n",
              "          }\n",
              "          quickchartButtonEl.classList.remove('colab-df-spinner');\n",
              "          quickchartButtonEl.classList.add('colab-df-quickchart-complete');\n",
              "        }\n",
              "        (() => {\n",
              "          let quickchartButtonEl =\n",
              "            document.querySelector('#df-c3c19832-8eb7-44df-bfd3-aaaa1469ac2b button');\n",
              "          quickchartButtonEl.style.display =\n",
              "            google.colab.kernel.accessAllowed ? 'block' : 'none';\n",
              "        })();\n",
              "      </script>\n",
              "    </div>\n",
              "    </div>\n",
              "  </div>\n"
            ],
            "application/vnd.google.colaboratory.intrinsic+json": {
              "type": "dataframe",
              "summary": "{\n  \"name\": \"df\",\n  \"rows\": 4,\n  \"fields\": [\n    {\n      \"column\": [\n        \"experience\",\n        \"\"\n      ],\n      \"properties\": {\n        \"dtype\": \"string\",\n        \"num_unique_values\": 4,\n        \"samples\": [\n          \"\\u041d\\u0435\\u0442 \\u043e\\u043f\\u044b\\u0442\\u0430\",\n          \"\\u041e\\u0442 3 \\u0434\\u043e 6 \\u043b\\u0435\\u0442\",\n          \"\\u0411\\u043e\\u043b\\u0435\\u0435 6 \\u043b\\u0435\\u0442\"\n        ],\n        \"semantic_type\": \"\",\n        \"description\": \"\"\n      }\n    },\n    {\n      \"column\": [\n        \"avg_salary\",\n        \"count\"\n      ],\n      \"properties\": {\n        \"dtype\": \"number\",\n        \"std\": 374,\n        \"min\": 116,\n        \"max\": 1013,\n        \"num_unique_values\": 4,\n        \"samples\": [\n          428,\n          603,\n          116\n        ],\n        \"semantic_type\": \"\",\n        \"description\": \"\"\n      }\n    },\n    {\n      \"column\": [\n        \"avg_salary\",\n        \"mean\"\n      ],\n      \"properties\": {\n        \"dtype\": \"number\",\n        \"std\": 76521.32438697162,\n        \"min\": 71248.4894859813,\n        \"max\": 240373.27586206896,\n        \"num_unique_values\": 4,\n        \"samples\": [\n          71248.4894859813,\n          194801.14344941956,\n          240373.27586206896\n        ],\n        \"semantic_type\": \"\",\n        \"description\": \"\"\n      }\n    }\n  ]\n}"
            }
          },
          "metadata": {},
          "execution_count": 197
        }
      ]
    },
    {
      "cell_type": "markdown",
      "source": [
        "**Классификация по опыту**"
      ],
      "metadata": {
        "id": "6ENtFoVjYL4o"
      }
    },
    {
      "cell_type": "code",
      "source": [
        "def classify_seniority(name):\n",
        "    name = name.lower()\n",
        "    if \"senior\" in name or \"ведущий\" in name or \"lead\" in name:\n",
        "        return \"Senior\"\n",
        "    elif \"junior\" in name or \"стажер\" in name or \"intern\" in name:\n",
        "        return \"Junior\"\n",
        "    else:\n",
        "        return \"Middle+\"\n",
        "\n",
        "df[\"seniority\"] = df[\"name\"].apply(classify_seniority)\n",
        "df.groupby(\"seniority\")[\"name\"].count()"
      ],
      "metadata": {
        "colab": {
          "base_uri": "https://localhost:8080/",
          "height": 209
        },
        "id": "49NFWaylAsiD",
        "outputId": "cc3c8fe8-4d98-49b4-df11-0a22d21d0eab"
      },
      "execution_count": 198,
      "outputs": [
        {
          "output_type": "execute_result",
          "data": {
            "text/plain": [
              "seniority\n",
              "Junior      325\n",
              "Middle+    3813\n",
              "Senior      512\n",
              "Name: name, dtype: int64"
            ],
            "text/html": [
              "<div>\n",
              "<style scoped>\n",
              "    .dataframe tbody tr th:only-of-type {\n",
              "        vertical-align: middle;\n",
              "    }\n",
              "\n",
              "    .dataframe tbody tr th {\n",
              "        vertical-align: top;\n",
              "    }\n",
              "\n",
              "    .dataframe thead th {\n",
              "        text-align: right;\n",
              "    }\n",
              "</style>\n",
              "<table border=\"1\" class=\"dataframe\">\n",
              "  <thead>\n",
              "    <tr style=\"text-align: right;\">\n",
              "      <th></th>\n",
              "      <th>name</th>\n",
              "    </tr>\n",
              "    <tr>\n",
              "      <th>seniority</th>\n",
              "      <th></th>\n",
              "    </tr>\n",
              "  </thead>\n",
              "  <tbody>\n",
              "    <tr>\n",
              "      <th>Junior</th>\n",
              "      <td>325</td>\n",
              "    </tr>\n",
              "    <tr>\n",
              "      <th>Middle+</th>\n",
              "      <td>3813</td>\n",
              "    </tr>\n",
              "    <tr>\n",
              "      <th>Senior</th>\n",
              "      <td>512</td>\n",
              "    </tr>\n",
              "  </tbody>\n",
              "</table>\n",
              "</div><br><label><b>dtype:</b> int64</label>"
            ]
          },
          "metadata": {},
          "execution_count": 198
        }
      ]
    },
    {
      "cell_type": "markdown",
      "source": [
        "**Есть ли связь между уровнем зарплаты и seniority?**"
      ],
      "metadata": {
        "id": "SYoFGJJtausm"
      }
    },
    {
      "cell_type": "code",
      "source": [
        "salary_by_seniority = df.groupby(\"seniority\")[\"avg_salary\"].mean().sort_values(ascending=False)\n",
        "print(\"Средняя зарплата по уровню (Junior/Middle/Senior):\")\n",
        "print(salary_by_seniority)\n",
        "\n",
        "# График\n",
        "salary_by_seniority.plot(kind=\"bar\", color=\"teal\", title=\"Средняя зарплата по уровню\")\n",
        "plt.ylabel(\"Средняя зарплата\")\n",
        "plt.xlabel(\"Уровень\")\n",
        "plt.tight_layout()\n",
        "plt.show()"
      ],
      "metadata": {
        "id": "-JqN9kcaavFG"
      },
      "execution_count": null,
      "outputs": []
    },
    {
      "cell_type": "code",
      "source": [
        "df['prof'] = df['prof_role'].apply(lambda x: x[2:-2])\n",
        "# Получаем уникальные элементы\n",
        "unique_elements = sorted(df['prof'].dropna().unique())\n",
        "print(unique_elements)"
      ],
      "metadata": {
        "id": "3nKMn8V6D4_T"
      },
      "execution_count": null,
      "outputs": []
    },
    {
      "cell_type": "code",
      "source": [
        "df['prof']"
      ],
      "metadata": {
        "id": "tDmfqiKuFM3E"
      },
      "execution_count": null,
      "outputs": []
    },
    {
      "cell_type": "code",
      "source": [
        "prof_counts = df[\"prof\"].value_counts().head(TOP_N)\n",
        "print(prof_counts)"
      ],
      "metadata": {
        "id": "82puoE9JGjnS"
      },
      "execution_count": null,
      "outputs": []
    },
    {
      "cell_type": "markdown",
      "source": [
        "**Средние зарплаты по профессиям**"
      ],
      "metadata": {
        "id": "DQcPw78yHREw"
      }
    },
    {
      "cell_type": "code",
      "source": [
        "salary_by_prof = df.groupby(\"prof\")[\"avg_salary\"].mean().sort_values(ascending=False)\n",
        "print(salary_by_prof)"
      ],
      "metadata": {
        "id": "1W4DjLKNHClh"
      },
      "execution_count": null,
      "outputs": []
    },
    {
      "cell_type": "markdown",
      "source": [
        "**Средние зарплаты по категориям:**"
      ],
      "metadata": {
        "id": "0PIzC0orIMpW"
      }
    },
    {
      "cell_type": "code",
      "source": [
        "def categorize_vacancy(row):\n",
        "    text = f\"{row['name']} {row['requirement']}\".lower() if pd.notna(row['requirement']) else row['name'].lower()\n",
        "\n",
        "    for category, keywords in CATEGORIES.items():\n",
        "        for keyword in keywords:\n",
        "            if re.search(rf\"\\b{re.escape(keyword.lower())}\\b\", text, re.IGNORECASE):\n",
        "                return category\n",
        "    return \"other\"\n",
        "\n",
        "df[\"category\"] = df.apply(categorize_vacancy, axis=1)"
      ],
      "metadata": {
        "id": "xBBaIrFxBEV5"
      },
      "execution_count": 140,
      "outputs": []
    },
    {
      "cell_type": "code",
      "source": [
        "salary_by_category = df.groupby(\"category\")[\"avg_salary\"].mean().sort_values(ascending=False)\n",
        "print(salary_by_category)"
      ],
      "metadata": {
        "id": "ENW9dMjpG-r2"
      },
      "execution_count": null,
      "outputs": []
    },
    {
      "cell_type": "markdown",
      "source": [
        "**График зарплат по категориям**"
      ],
      "metadata": {
        "id": "-NZOjCZeM2lf"
      }
    },
    {
      "cell_type": "code",
      "source": [
        "#\n",
        "plt.figure(figsize=(10, 6))\n",
        "sns.barplot(x=salary_by_category.values, y=salary_by_category.index, palette=\"viridis\")\n",
        "plt.title(\"Средняя зарплата по категориям\")\n",
        "plt.xlabel(\"Средняя зарплата (руб.)\")\n",
        "plt.ylabel(\"Категория\")\n",
        "plt.grid(True, axis=\"x\", linestyle=\"--\", alpha=0.5)\n",
        "plt.tight_layout()\n",
        "plt.show()"
      ],
      "metadata": {
        "id": "7RreoxcJNDhB"
      },
      "execution_count": null,
      "outputs": []
    },
    {
      "cell_type": "markdown",
      "source": [
        "**Подсчёт количества вакансий по городам**"
      ],
      "metadata": {
        "id": "joPyhe0IOHcD"
      }
    },
    {
      "cell_type": "code",
      "source": [
        "city_counts = df[\"city\"].value_counts().head(TOP_N)\n",
        "print(city_counts)"
      ],
      "metadata": {
        "id": "1cPN1bmbOJS4"
      },
      "execution_count": null,
      "outputs": []
    },
    {
      "cell_type": "code",
      "source": [
        "# --- График: столбчатая диаграмма ---\n",
        "plt.figure(figsize=(12, 6))\n",
        "bars = plt.bar(city_counts.index, city_counts.values, color=\"#4F94CD\")\n",
        "plt.title(\"Количество IT-вакансий по городам\")\n",
        "plt.xlabel(\"Город\")\n",
        "plt.ylabel(\"Число вакансий\")\n",
        "plt.xticks(rotation=45, ha=\"right\")\n",
        "plt.tight_layout()\n",
        "\n",
        "# Подписи значений над столбцами\n",
        "for bar in bars:\n",
        "    yval = bar.get_height()\n",
        "    plt.text(bar.get_x() + bar.get_width()/2, yval + 0.5,\n",
        "             str(int(yval)), ha='center', va='bottom', fontsize=10)\n",
        "\n",
        "plt.show()"
      ],
      "metadata": {
        "id": "a825oePuOQve"
      },
      "execution_count": null,
      "outputs": []
    },
    {
      "cell_type": "code",
      "source": [
        "# --- Круговая диаграмма ---\n",
        "plt.figure(figsize=(10, 10))\n",
        "city_counts.plot.pie(\n",
        "    autopct='%1.1f%%',\n",
        "    startangle=90,\n",
        "    colors=plt.cm.Paired.colors,\n",
        "    textprops={'fontsize': 8},\n",
        "    title=f'Распределение вакансий по {TOP_N} городам'\n",
        ")\n",
        "plt.ylabel('')\n",
        "plt.tight_layout()\n",
        "plt.show()"
      ],
      "metadata": {
        "id": "ThN2-2DxOYyI"
      },
      "execution_count": null,
      "outputs": []
    },
    {
      "cell_type": "markdown",
      "source": [
        "**Бокс-плот зарплат по категориям**"
      ],
      "metadata": {
        "id": "ZCjgCOt3boEi"
      }
    },
    {
      "cell_type": "code",
      "source": [
        "# Фильтрация: убираем пустые значения\n",
        "df_filtered = df.dropna(subset=[\"avg_salary\", \"category\"])\n",
        "\n",
        "# Уберём нереалистично высокие зарплаты (например, свыше 500 000)\n",
        "df_filtered = df_filtered[df_filtered[\"avg_salary\"] < 500000]\n",
        "\n",
        "# Сортировка по средней зарплате внутри категорий\n",
        "category_order = df_filtered.groupby(\"category\")[\"avg_salary\"].median().sort_values(ascending=False).index\n",
        "\n",
        "# Бокс-плот\n",
        "plt.figure(figsize=(12, 8))\n",
        "sns.boxplot(\n",
        "    data=df_filtered,\n",
        "    x=\"avg_salary\",\n",
        "    y=\"category\",\n",
        "    order=category_order,\n",
        "    palette=\"viridis\"\n",
        ")\n",
        "\n",
        "plt.title(\"Распределение зарплат по категориям (boxplot)\")\n",
        "plt.xlabel(\"Средняя зарплата (руб.)\")\n",
        "plt.ylabel(\"Категория\")\n",
        "plt.grid(True, linestyle='--', alpha=0.5)\n",
        "plt.tight_layout()\n",
        "plt.show()"
      ],
      "metadata": {
        "id": "macTnJeJbobR"
      },
      "execution_count": null,
      "outputs": []
    },
    {
      "cell_type": "markdown",
      "source": [
        "**Бокс-плот по городам**"
      ],
      "metadata": {
        "id": "v0uJXfRmb-Hi"
      }
    },
    {
      "cell_type": "code",
      "source": [
        "# Фильтрация по городам\n",
        "top_cities = df[\"city\"].value_counts().head(10).index\n",
        "df_city_filtered = df_filtered[df_filtered[\"city\"].isin(top_cities)]\n",
        "\n",
        "# Бокс-плот по городам\n",
        "plt.figure(figsize=(12, 8))\n",
        "sns.boxplot(\n",
        "    data=df_city_filtered,\n",
        "    x=\"avg_salary\",\n",
        "    y=\"city\",\n",
        "    order=df_city_filtered.groupby(\"city\")[\"avg_salary\"].median().sort_values(ascending=False).index,\n",
        "    palette=\"coolwarm\"\n",
        ")\n",
        "\n",
        "plt.title(\"Распределение зарплат по городам (boxplot)\")\n",
        "plt.xlabel(\"Средняя зарплата (руб.)\")\n",
        "plt.ylabel(\"Город\")\n",
        "plt.grid(True, linestyle='--', alpha=0.5)\n",
        "plt.tight_layout()\n",
        "plt.show()"
      ],
      "metadata": {
        "id": "JBkqnnqMb-gn"
      },
      "execution_count": null,
      "outputs": []
    },
    {
      "cell_type": "markdown",
      "source": [
        "**Самые популярные навыки**"
      ],
      "metadata": {
        "id": "yALcVckMOtBi"
      }
    },
    {
      "cell_type": "code",
      "source": [
        "all_skills = df[\"requirement\"].str.split(\",\").explode().str.strip()\n",
        "top_skills = all_skills.value_counts().head(30)\n",
        "print(top_skills)"
      ],
      "metadata": {
        "id": "fQ0WEo6DOp6K"
      },
      "execution_count": null,
      "outputs": []
    },
    {
      "cell_type": "code",
      "source": [
        "top_skills.plot(kind=\"barh\", title=\"ТОП-20 ключевых навыков\")\n",
        "plt.gca().invert_yaxis()\n",
        "plt.xlabel(\"Частота\")\n",
        "plt.ylabel(\"Навык\")\n",
        "plt.tight_layout()\n",
        "plt.show()"
      ],
      "metadata": {
        "id": "omTiyQOUPNJj"
      },
      "execution_count": null,
      "outputs": []
    },
    {
      "cell_type": "markdown",
      "source": [
        "**Самые популярные обязанности**"
      ],
      "metadata": {
        "id": "G-BJjzEoRedt"
      }
    },
    {
      "cell_type": "code",
      "source": [
        "all_respons = df[\"responsibility\"].str.split(\", \").explode().str.strip()\n",
        "all_respons.value_counts().head(20).plot(kind=\"barh\", title=\"ТОП-20 ключевых обязанностей\")\n",
        "plt.gca().invert_yaxis()\n",
        "plt.xlabel(\"Частота\")\n",
        "plt.ylabel(\"Обязанность\")\n",
        "plt.tight_layout()\n",
        "plt.show()"
      ],
      "metadata": {
        "id": "ehaRrsH-Pqd5"
      },
      "execution_count": null,
      "outputs": []
    },
    {
      "cell_type": "code",
      "source": [
        "combined = pd.concat([all_skills, all_respons], ignore_index=True)"
      ],
      "metadata": {
        "id": "VG98Un5DPyxz"
      },
      "execution_count": 149,
      "outputs": []
    },
    {
      "cell_type": "code",
      "source": [
        "combined.value_counts().head(20).plot(kind=\"barh\", title=\"ТОП-20 ключевых обязанностей\")\n",
        "plt.gca().invert_yaxis()\n",
        "plt.xlabel(\"Частота\")\n",
        "plt.ylabel(\"Навыки и обязанности\")\n",
        "plt.tight_layout()\n",
        "plt.show()"
      ],
      "metadata": {
        "id": "Kkzygz2RP-LE"
      },
      "execution_count": null,
      "outputs": []
    },
    {
      "cell_type": "markdown",
      "source": [
        "**Облако навыков**"
      ],
      "metadata": {
        "id": "suZqfqp-RzOi"
      }
    },
    {
      "cell_type": "code",
      "source": [
        "def clean_text(text):\n",
        "    if not isinstance(text, str):\n",
        "        return \"\"\n",
        "    text = text.lower()\n",
        "    text = re.sub(r\"[^\\w\\s]\", \" \", text)  # убираем знаки препинания\n",
        "    text = re.sub(r\"\\d+\", \" \", text)      # убираем цифры\n",
        "    text = re.sub(r\"\\s+\", \" \", text).strip()\n",
        "    return text"
      ],
      "metadata": {
        "id": "-e-zQZ4CR1-S"
      },
      "execution_count": 154,
      "outputs": []
    },
    {
      "cell_type": "code",
      "source": [
        "# @title Стоп-слова\n",
        "# --- Список стоп-слов ---\n",
        "STOPWORDS_RU = {\n",
        "    \"и\", \"в\", \"на\", \"с\", \"по\", \"для\", \"из\", \"от\", \"до\", \"за\", \"над\", \"под\", \"при\",\n",
        "    \"как\", \"лет\", \"опыта\",\"менее\", \"х\", \"опыта\", \"тебя\",\n",
        "    \"к\", \"у\", \"о\", \"об\", \"со\", \"а\", \"но\", \"или\", \"да\", \"же\", \"то\", \"это\", \"он\", \"она\",\n",
        "    \"более\", \"работы\", \"года\", \"они\", \"мы\", \"вы\", \"они\", \"его\", \"её\", \"их\", \"наш\", \"ваш\", \"этот\", \"тот\", \"такой\",\n",
        "    \"мой\", \"твой\", \"свой\", \"быть\", \"был\", \"была\", \"были\", \"есть\", \"нет\", \"да\", \"не\", \"ни\", \"будет\", \"преимуществом\"\n",
        "}\n",
        "STOPWORDS_RU_COMMON = {\n",
        "    \"и\", \"в\", \"на\", \"с\", \"по\", \"для\", \"из\", \"от\", \"до\", \"за\", \"над\", \"под\", \"при\",\n",
        "    \"к\", \"у\", \"о\", \"об\", \"со\", \"а\", \"но\", \"или\", \"да\", \"же\", \"то\", \"это\", \"он\", \"она\",\n",
        "    \"они\", \"мы\", \"вы\", \"их\", \"мой\", \"твой\", \"свой\", \"наш\", \"ваш\", \"этот\", \"тот\", \"такой\",\n",
        "    \"быть\", \"был\", \"была\", \"были\", \"есть\", \"нет\", \"да\", \"не\", \"ни\", \"уже\", \"ещё\", \"бы\", \"либо\", \"до\",\n",
        "    \"всё\", \"всё-таки\", \"весь\", \"все\", \"всех\", \"всем\", \"всему\", \"всего\", \"всеми\", \"том числе\", \"быстро\", \"выше\"\n",
        "}\n",
        "\n",
        "STOPWORDS_JOB_EXTRA = {\n",
        "    \"работа\", \"вакансия\", \"компания\", \"уровень\", \"зарплата\", \"оклад\", \"готовность\",\"знакомство\",\n",
        "    \"график\", \"полный день\", \"частично\", \"удалёнка\", \"офис\", \"стажировка\", \"стажер\", \"включая\",\n",
        "    \"junior\", \"мидл\", \"senior\", \"lead\", \"руководитель\", \"специалист\", \"опыт\", \"отличное\", \"организации\",\n",
        "    \"знание\", \"умение\", \"умения\", \"навыки\", \"желательно\", \"обязательно\", \"требуется\", \"плюсом\",\n",
        "    \"развитие\", \"карьера\", \"возможности\", \"программа\", \"трудоустройство\", \"перспективы\",\n",
        "    \"интересный проект\", \"динамичная компания\", \"команда\", \"работать\", \"место\", \"роль\", \"минимум\",\n",
        "    \"должность\", \"условия\", \"предоставляется\", \"предоставляем\", \"предлагается\", \"предлагаем\",\n",
        "    \"вам\", \"вас\", \"вам нужно\", \"мы предлагаем\", \"мы ищем\", \"мы ищем вас\", \"вы будете\", \"проведения\",\n",
        "    \"что\", \"чтобы\", \"бы\", \"можно\", \"должен\", \"должны\", \"требование\", \"требования\", \"ответственность\",\n",
        "    \"обязанности\", \"уровень знаний\", \"опыт работы\", \"опыт\", \"желателен\", \"желательно\", \"понимание\",\n",
        "    \"владение\", \"владеете\", \"готовы\", \"готов\", \"готовность\", \"работать\", \"работе\", \"работаю\", \"умеете\",\n",
        "    \"мы\", \"наша\", \"наши\", \"вам\", \"ваш\", \"ваша\", \"ваши\", \"все\", \"всё\", \"всегда\", \"всё равно\", \"знаете\",\n",
        "    \"каждый\", \"любой\", \"любая\", \"любое\", \"кто\", \"что\", \"как\", \"почему\", \"сколько\", \"где\", \"имеете\", \"имеешь\",\n",
        "    \"также\", \"в том числе\", \"например\", \"например:\", \"и т. д.\", \"итд\", \"итп\", \"и другие\", \"приветствуется\", \"написания\",\n",
        "    \"и прочее\", \"и пр.\", \"другие\", \"прочее\", \"другое\", \"и так далее\", \"и тому подобное\", \"имеет\", \"хорошее\", \"систем\", \"наличие\"\n",
        "}\n",
        "\n",
        "STOPWORDS_TECH_EXTRA = {\n",
        "    \"разработка\", \"разрабатывать\", \"работать\", \"работа\", \"система\", \"создание\",\"приложений\", \"аналогичной должности\",\n",
        "    \"веб\", \"интернет\", \"программа\", \"проект\", \"решение\", \"платформа\", \"сервис\", \"инструмент\", \"сфере\",\n",
        "    \"технология\", \"библиотека\", \"метод\", \"модель\", \"данные\", \"информация\", \"задача\", \"задачи\", \"разработки\", \"разработке\",\n",
        "    \"функция\", \"код\", \"писать\", \"написание\", \"тестировать\", \"пользователь\", \"клиент\", \"заказчик\", \"настройки\", \"использования\", \"знаешь\",\n",
        "    \"системный\", \"системы\", \"хранение\", \"структура\", \"требование\", \"требовать\", \"использования\", \"технологий\", \"системами\",\n",
        "    \"анализировать\", \"развитие\", \"развивать\", \"инфраструктура\", \"масштабируемость\", \"принципов\", \"кода\", \"языка\", \"коммерческой\",\n",
        "    \"производительность\", \"оптимизация\", \"скорость\", \"взаимодействие\", \"интеграция\", \"управления\", \"процессов\", \"разработчика\"\n",
        "}\n",
        "\n",
        "STOPWORDS = STOPWORDS_RU_COMMON.union(STOPWORDS_JOB_EXTRA).union(STOPWORDS_TECH_EXTRA).union(STOPWORDS_RU)"
      ],
      "metadata": {
        "cellView": "form",
        "id": "_BjD88osSv0t"
      },
      "execution_count": 158,
      "outputs": []
    },
    {
      "cell_type": "code",
      "source": [
        "all_skills = \" \".join(df[\"requirement\"].fillna(\"\").apply(clean_text))\n",
        "\n",
        "#filtered_skills = \" \".join([word for word in all_skills.split() if word not in STOPWORDS])\n",
        "#all_skills = filtered_skills\n",
        "\n",
        "# --- Создание облака слов ---\n",
        "wordcloud = WordCloud(\n",
        "    width=800,\n",
        "    height=400,\n",
        "    background_color=\"white\",\n",
        "    max_words=200,\n",
        "    contour_width=3,\n",
        "    contour_color='steelblue',\n",
        "    colormap=\"viridis\"\n",
        ").generate(all_skills)\n",
        "\n",
        "# Облако навыков\n",
        "plt.figure(figsize=(12, 6))\n",
        "plt.imshow(wordcloud, interpolation=\"bilinear\")\n",
        "plt.axis(\"off\")\n",
        "plt.title(\"Часто встречающиеся ключевые навыки\", fontsize=14)\n",
        "plt.tight_layout()\n",
        "plt.show()"
      ],
      "metadata": {
        "id": "SUyo9eVsR3tq"
      },
      "execution_count": null,
      "outputs": []
    },
    {
      "cell_type": "markdown",
      "source": [
        "**Распределение требования к опыту по категориям**"
      ],
      "metadata": {
        "id": "t5cZTMLoS79f"
      }
    },
    {
      "cell_type": "code",
      "source": [
        "df.groupby([\"seniority\", \"category\"])[\"name\"].count().unstack(fill_value=0)"
      ],
      "metadata": {
        "id": "tYuAJ2hjTLVf"
      },
      "execution_count": null,
      "outputs": []
    },
    {
      "cell_type": "markdown",
      "source": [
        "**Категории с количеством вакансий и зарплатами**"
      ],
      "metadata": {
        "id": "xw-npiEHTfJ7"
      }
    },
    {
      "cell_type": "code",
      "source": [
        "report = df.groupby(\"category\").agg(\n",
        "    vacancies=(\"name\", \"count\"),\n",
        "    avg_salary=(\"avg_salary\", \"mean\"),\n",
        "    min_salary=(\"salary_from\", \"min\"),\n",
        "    max_salary=(\"salary_to\", \"max\"),\n",
        "    companies=(\"company\", \"nunique\")\n",
        ").sort_values(by=\"vacancies\", ascending=False)\n",
        "\n",
        "print(report)"
      ],
      "metadata": {
        "id": "l8wXIZaATZvR"
      },
      "execution_count": null,
      "outputs": []
    },
    {
      "cell_type": "markdown",
      "source": [
        "**Компании и количество вакансий**"
      ],
      "metadata": {
        "id": "jplJ2vJfTqm7"
      }
    },
    {
      "cell_type": "code",
      "source": [
        "df[\"company\"].value_counts().head(20)"
      ],
      "metadata": {
        "id": "w7thrVLMTo3h"
      },
      "execution_count": null,
      "outputs": []
    },
    {
      "cell_type": "markdown",
      "source": [
        "**Вакансии компаний по категориям**"
      ],
      "metadata": {
        "id": "0_pzsrsmTome"
      }
    },
    {
      "cell_type": "code",
      "source": [
        "# Группируем по компаниям и категориям\n",
        "company_category = df.groupby([\"company\", \"category\"]).size().unstack(fill_value=0)\n",
        "\n",
        "# Считаем общее число вакансий у каждой компании\n",
        "company_category[\"total\"] = company_category.sum(axis=1)\n",
        "\n",
        "# Сортируем по убыванию\n",
        "company_category = company_category.sort_values(by=\"total\", ascending=False)\n",
        "\n",
        "# Удаляем вспомогательный столбец\n",
        "company_category = company_category.drop(columns=[\"total\"])\n",
        "\n",
        "print(company_category.head(20))"
      ],
      "metadata": {
        "id": "SZeXYXaMT4is"
      },
      "execution_count": null,
      "outputs": []
    },
    {
      "cell_type": "markdown",
      "source": [
        "**Топ-5 компаний по каждой категории**"
      ],
      "metadata": {
        "id": "KWhBrnxBVAf5"
      }
    },
    {
      "cell_type": "code",
      "source": [
        "top_companies_per_category = {}\n",
        "\n",
        "for category in df[\"category\"].unique():\n",
        "    top_companies = df[df[\"category\"] == category].groupby(\"company\").size().sort_values(ascending=False).head(5)\n",
        "    top_companies_per_category[category] = top_companies\n",
        "\n",
        "# Вывод\n",
        "for category, companies in top_companies_per_category.items():\n",
        "    print(f\"Топ-5 компаний в категории '{category}':\")\n",
        "    print(companies,'\\n')"
      ],
      "metadata": {
        "id": "la_S-oSAU_dI"
      },
      "execution_count": null,
      "outputs": []
    },
    {
      "cell_type": "markdown",
      "source": [
        "**Тепловая карта**"
      ],
      "metadata": {
        "id": "wUIYpT35WY1Y"
      }
    },
    {
      "cell_type": "code",
      "source": [
        "import seaborn as sns\n",
        "import matplotlib.pyplot as plt\n",
        "\n",
        "# Подготовим данные\n",
        "company_category_top = company_category.head(20)  # ограничимся 20 компаниями для наглядности\n",
        "\n",
        "plt.figure(figsize=(14, 8))\n",
        "sns.heatmap(company_category_top, annot=True, fmt=\"d\", cmap=\"YlGnBu\", linewidths=.5)\n",
        "plt.ylabel(\"Компания\")\n",
        "plt.xlabel(\"Категория\")\n",
        "plt.xticks(rotation=45)\n",
        "plt.tight_layout()\n",
        "plt.show()"
      ],
      "metadata": {
        "id": "B5ILFgu-WbZt"
      },
      "execution_count": null,
      "outputs": []
    },
    {
      "cell_type": "markdown",
      "source": [
        "**Самые \"зарплатные\" компании**"
      ],
      "metadata": {
        "id": "HGiOZ-kPZFBP"
      }
    },
    {
      "cell_type": "code",
      "source": [
        "top_salary_companies = df.groupby(\"company\")[\"avg_salary\"].mean().sort_values(ascending=False).head(30)\n",
        "print(top_salary_companies)"
      ],
      "metadata": {
        "id": "CE8Mrp0tZGuG"
      },
      "execution_count": null,
      "outputs": []
    },
    {
      "cell_type": "markdown",
      "source": [
        "**Самые \"зарплатные\" города**"
      ],
      "metadata": {
        "id": "FcwlIxasZoyQ"
      }
    },
    {
      "cell_type": "code",
      "source": [
        "top_cities = df.groupby(\"city\")[\"avg_salary\"].mean().sort_values(ascending=False).head(10)\n",
        "print(top_cities)"
      ],
      "metadata": {
        "id": "BgWdMsyCZqUn"
      },
      "execution_count": null,
      "outputs": []
    },
    {
      "cell_type": "markdown",
      "source": [
        "**Как часто встречается удалённая работа?**"
      ],
      "metadata": {
        "id": "9x8F4uX_ZyZY"
      }
    },
    {
      "cell_type": "code",
      "source": [
        "remote_count = df[df[\"requirement\"].str.contains(\"удален\", case=False, na=False)]\n",
        "print(f\"Вакансий с возможностью удалённой работы: {len(remote_count)}\")\n",
        "\n",
        "# По категориям\n",
        "remote_by_category = remote_count[\"category\"].value_counts()\n",
        "print(\"Удалёнка по категориям:\")\n",
        "print(remote_by_category)"
      ],
      "metadata": {
        "id": "UQxEmwWeZ0dQ"
      },
      "execution_count": null,
      "outputs": []
    },
    {
      "cell_type": "markdown",
      "source": [
        "**Сравнение зарплат по опыту**"
      ],
      "metadata": {
        "id": "-3ggKl_iaBRU"
      }
    },
    {
      "cell_type": "code",
      "source": [
        "salary_by_exp = df.groupby(\"experience\")[\"avg_salary\"].mean().sort_values(ascending=False)\n",
        "print(salary_by_exp)"
      ],
      "metadata": {
        "id": "D4ipcMbRaC7r"
      },
      "execution_count": null,
      "outputs": []
    },
    {
      "cell_type": "code",
      "source": [
        "salary_by_exp.plot(kind=\"bar\", title=\"Средняя зарплата по опыту\")\n",
        "plt.ylabel(\"Средняя зарплата\")\n",
        "plt.xlabel(\"Требуемый опыт\")\n",
        "plt.xticks(rotation=45, ha='right')\n",
        "plt.tight_layout()\n",
        "plt.show()"
      ],
      "metadata": {
        "id": "Ky_pMJPyaG7j"
      },
      "execution_count": null,
      "outputs": []
    },
    {
      "cell_type": "markdown",
      "source": [
        "**Самые популярные профессии по поисковым запросам**"
      ],
      "metadata": {
        "id": "nuldPZLwaTEC"
      }
    },
    {
      "cell_type": "code",
      "source": [
        "pivot = pd.pivot_table(df, index=\"search_term\", columns=\"category\", aggfunc=\"size\", fill_value=0)\n",
        "print(pivot.head(20))"
      ],
      "metadata": {
        "id": "SbKp18enaUs5"
      },
      "execution_count": null,
      "outputs": []
    }
  ]
}